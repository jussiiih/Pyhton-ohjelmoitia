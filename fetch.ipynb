{
 "cells": [
  {
   "cell_type": "code",
   "execution_count": 21,
   "metadata": {},
   "outputs": [],
   "source": [
    "import requests\n",
    "import pandas as pd\n",
    "import json"
   ]
  },
  {
   "cell_type": "markdown",
   "metadata": {},
   "source": [
    "1. Fetch the data "
   ]
  },
  {
   "cell_type": "code",
   "execution_count": 3,
   "metadata": {},
   "outputs": [],
   "source": [
    "data = requests.get('https://api.scryfall.com/cards/named?exact=key-to-the-archive')"
   ]
  },
  {
   "cell_type": "markdown",
   "metadata": {},
   "source": [
    "2. Grab the JSON part of the response."
   ]
  },
  {
   "cell_type": "code",
   "execution_count": 22,
   "metadata": {},
   "outputs": [],
   "source": [
    "response_json = json.loads(data.content)"
   ]
  },
  {
   "cell_type": "code",
   "execution_count": 23,
   "metadata": {},
   "outputs": [
    {
     "data": {
      "text/plain": [
       "{'object': 'card',\n",
       " 'id': 'd647773b-0dab-40df-8e25-ed4f437f549b',\n",
       " 'oracle_id': '16cdfb7f-43af-4561-bfff-1c8477c73990',\n",
       " 'multiverse_ids': [548286],\n",
       " 'arena_id': 79965,\n",
       " 'name': 'Key to the Archive',\n",
       " 'lang': 'en',\n",
       " 'released_at': '2021-12-09',\n",
       " 'uri': 'https://api.scryfall.com/cards/d647773b-0dab-40df-8e25-ed4f437f549b',\n",
       " 'scryfall_uri': 'https://scryfall.com/card/ymid/59/key-to-the-archive?utm_source=api',\n",
       " 'layout': 'normal',\n",
       " 'highres_image': False,\n",
       " 'image_status': 'lowres',\n",
       " 'image_uris': {'small': 'https://cards.scryfall.io/small/front/d/6/d647773b-0dab-40df-8e25-ed4f437f549b.jpg?1680465887',\n",
       "  'normal': 'https://cards.scryfall.io/normal/front/d/6/d647773b-0dab-40df-8e25-ed4f437f549b.jpg?1680465887',\n",
       "  'large': 'https://cards.scryfall.io/large/front/d/6/d647773b-0dab-40df-8e25-ed4f437f549b.jpg?1680465887',\n",
       "  'png': 'https://cards.scryfall.io/png/front/d/6/d647773b-0dab-40df-8e25-ed4f437f549b.png?1680465887',\n",
       "  'art_crop': 'https://cards.scryfall.io/art_crop/front/d/6/d647773b-0dab-40df-8e25-ed4f437f549b.jpg?1680465887',\n",
       "  'border_crop': 'https://cards.scryfall.io/border_crop/front/d/6/d647773b-0dab-40df-8e25-ed4f437f549b.jpg?1680465887'},\n",
       " 'mana_cost': '{4}',\n",
       " 'cmc': 4.0,\n",
       " 'type_line': 'Artifact',\n",
       " 'oracle_text': \"Key to the Archive enters the battlefield tapped.\\nWhen Key to the Archive enters the battlefield, draft a card from Key to the Archive's spellbook, then discard a card.\\n{T}: Add two mana in any combination of colors.\",\n",
       " 'colors': [],\n",
       " 'color_identity': [],\n",
       " 'keywords': [],\n",
       " 'produced_mana': ['B', 'G', 'R', 'U', 'W'],\n",
       " 'legalities': {'standard': 'not_legal',\n",
       "  'future': 'not_legal',\n",
       "  'historic': 'legal',\n",
       "  'timeless': 'legal',\n",
       "  'gladiator': 'legal',\n",
       "  'pioneer': 'not_legal',\n",
       "  'explorer': 'not_legal',\n",
       "  'modern': 'not_legal',\n",
       "  'legacy': 'not_legal',\n",
       "  'pauper': 'not_legal',\n",
       "  'vintage': 'not_legal',\n",
       "  'penny': 'not_legal',\n",
       "  'commander': 'not_legal',\n",
       "  'oathbreaker': 'not_legal',\n",
       "  'standardbrawl': 'not_legal',\n",
       "  'brawl': 'legal',\n",
       "  'alchemy': 'not_legal',\n",
       "  'paupercommander': 'not_legal',\n",
       "  'duel': 'not_legal',\n",
       "  'oldschool': 'not_legal',\n",
       "  'premodern': 'not_legal',\n",
       "  'predh': 'not_legal'},\n",
       " 'games': ['arena'],\n",
       " 'reserved': False,\n",
       " 'foil': False,\n",
       " 'nonfoil': True,\n",
       " 'finishes': ['nonfoil'],\n",
       " 'oversized': False,\n",
       " 'promo': False,\n",
       " 'reprint': False,\n",
       " 'variation': False,\n",
       " 'set_id': '8a673262-8745-452d-820a-03d5c4a4f135',\n",
       " 'set': 'ymid',\n",
       " 'set_name': 'Alchemy: Innistrad',\n",
       " 'set_type': 'alchemy',\n",
       " 'set_uri': 'https://api.scryfall.com/sets/8a673262-8745-452d-820a-03d5c4a4f135',\n",
       " 'set_search_uri': 'https://api.scryfall.com/cards/search?order=set&q=e%3Aymid&unique=prints',\n",
       " 'scryfall_set_uri': 'https://scryfall.com/sets/ymid?utm_source=api',\n",
       " 'rulings_uri': 'https://api.scryfall.com/cards/d647773b-0dab-40df-8e25-ed4f437f549b/rulings',\n",
       " 'prints_search_uri': 'https://api.scryfall.com/cards/search?order=released&q=oracleid%3A16cdfb7f-43af-4561-bfff-1c8477c73990&unique=prints',\n",
       " 'collector_number': '59',\n",
       " 'digital': True,\n",
       " 'rarity': 'rare',\n",
       " 'card_back_id': '0aeebaf5-8c7d-4636-9e82-8c27447861f7',\n",
       " 'artist': 'Andreas Zafiratos',\n",
       " 'artist_ids': ['e2f13a9a-57c5-40de-81d4-3b0723899cdf'],\n",
       " 'illustration_id': '9e596fb1-ee92-472e-a490-4aa7f29f73f1',\n",
       " 'border_color': 'black',\n",
       " 'frame': '2015',\n",
       " 'security_stamp': 'arena',\n",
       " 'full_art': False,\n",
       " 'textless': False,\n",
       " 'booster': False,\n",
       " 'story_spotlight': False,\n",
       " 'promo_types': ['alchemy'],\n",
       " 'preview': {'source': 'MTGNerdGirl',\n",
       "  'source_uri': 'https://twitter.com/MTGNerdGirl/status/1468415036188246019',\n",
       "  'previewed_at': '2021-12-07'},\n",
       " 'prices': {'usd': None,\n",
       "  'usd_foil': None,\n",
       "  'usd_etched': None,\n",
       "  'eur': None,\n",
       "  'eur_foil': None,\n",
       "  'tix': None},\n",
       " 'related_uris': {'gatherer': 'https://gatherer.wizards.com/Pages/Card/Details.aspx?multiverseid=548286&printed=false',\n",
       "  'tcgplayer_infinite_articles': 'https://tcgplayer.pxf.io/c/4931599/1830156/21018?subId1=api&trafcat=infinite&u=https%3A%2F%2Finfinite.tcgplayer.com%2Fsearch%3FcontentMode%3Darticle%26game%3Dmagic%26partner%3Dscryfall%26q%3DKey%2Bto%2Bthe%2BArchive',\n",
       "  'tcgplayer_infinite_decks': 'https://tcgplayer.pxf.io/c/4931599/1830156/21018?subId1=api&trafcat=infinite&u=https%3A%2F%2Finfinite.tcgplayer.com%2Fsearch%3FcontentMode%3Ddeck%26game%3Dmagic%26partner%3Dscryfall%26q%3DKey%2Bto%2Bthe%2BArchive',\n",
       "  'edhrec': 'https://edhrec.com/route/?cc=Key+to+the+Archive'}}"
      ]
     },
     "execution_count": 23,
     "metadata": {},
     "output_type": "execute_result"
    }
   ],
   "source": [
    "response_json"
   ]
  },
  {
   "cell_type": "markdown",
   "metadata": {},
   "source": [
    "3. Normalize the JSON data into a DataFrame"
   ]
  },
  {
   "cell_type": "code",
   "execution_count": 24,
   "metadata": {},
   "outputs": [],
   "source": [
    "df = pd.json_normalize(response_json)"
   ]
  },
  {
   "cell_type": "code",
   "execution_count": 25,
   "metadata": {},
   "outputs": [
    {
     "data": {
      "text/html": [
       "<div>\n",
       "<style scoped>\n",
       "    .dataframe tbody tr th:only-of-type {\n",
       "        vertical-align: middle;\n",
       "    }\n",
       "\n",
       "    .dataframe tbody tr th {\n",
       "        vertical-align: top;\n",
       "    }\n",
       "\n",
       "    .dataframe thead th {\n",
       "        text-align: right;\n",
       "    }\n",
       "</style>\n",
       "<table border=\"1\" class=\"dataframe\">\n",
       "  <thead>\n",
       "    <tr style=\"text-align: right;\">\n",
       "      <th></th>\n",
       "      <th>object</th>\n",
       "      <th>id</th>\n",
       "      <th>oracle_id</th>\n",
       "      <th>multiverse_ids</th>\n",
       "      <th>arena_id</th>\n",
       "      <th>name</th>\n",
       "      <th>lang</th>\n",
       "      <th>released_at</th>\n",
       "      <th>uri</th>\n",
       "      <th>scryfall_uri</th>\n",
       "      <th>...</th>\n",
       "      <th>prices.usd</th>\n",
       "      <th>prices.usd_foil</th>\n",
       "      <th>prices.usd_etched</th>\n",
       "      <th>prices.eur</th>\n",
       "      <th>prices.eur_foil</th>\n",
       "      <th>prices.tix</th>\n",
       "      <th>related_uris.gatherer</th>\n",
       "      <th>related_uris.tcgplayer_infinite_articles</th>\n",
       "      <th>related_uris.tcgplayer_infinite_decks</th>\n",
       "      <th>related_uris.edhrec</th>\n",
       "    </tr>\n",
       "  </thead>\n",
       "  <tbody>\n",
       "    <tr>\n",
       "      <th>0</th>\n",
       "      <td>card</td>\n",
       "      <td>d647773b-0dab-40df-8e25-ed4f437f549b</td>\n",
       "      <td>16cdfb7f-43af-4561-bfff-1c8477c73990</td>\n",
       "      <td>[548286]</td>\n",
       "      <td>79965</td>\n",
       "      <td>Key to the Archive</td>\n",
       "      <td>en</td>\n",
       "      <td>2021-12-09</td>\n",
       "      <td>https://api.scryfall.com/cards/d647773b-0dab-4...</td>\n",
       "      <td>https://scryfall.com/card/ymid/59/key-to-the-a...</td>\n",
       "      <td>...</td>\n",
       "      <td>None</td>\n",
       "      <td>None</td>\n",
       "      <td>None</td>\n",
       "      <td>None</td>\n",
       "      <td>None</td>\n",
       "      <td>None</td>\n",
       "      <td>https://gatherer.wizards.com/Pages/Card/Detail...</td>\n",
       "      <td>https://tcgplayer.pxf.io/c/4931599/1830156/210...</td>\n",
       "      <td>https://tcgplayer.pxf.io/c/4931599/1830156/210...</td>\n",
       "      <td>https://edhrec.com/route/?cc=Key+to+the+Archive</td>\n",
       "    </tr>\n",
       "  </tbody>\n",
       "</table>\n",
       "<p>1 rows × 95 columns</p>\n",
       "</div>"
      ],
      "text/plain": [
       "  object                                    id  \\\n",
       "0   card  d647773b-0dab-40df-8e25-ed4f437f549b   \n",
       "\n",
       "                              oracle_id multiverse_ids  arena_id  \\\n",
       "0  16cdfb7f-43af-4561-bfff-1c8477c73990       [548286]     79965   \n",
       "\n",
       "                 name lang released_at  \\\n",
       "0  Key to the Archive   en  2021-12-09   \n",
       "\n",
       "                                                 uri  \\\n",
       "0  https://api.scryfall.com/cards/d647773b-0dab-4...   \n",
       "\n",
       "                                        scryfall_uri  ... prices.usd  \\\n",
       "0  https://scryfall.com/card/ymid/59/key-to-the-a...  ...       None   \n",
       "\n",
       "   prices.usd_foil prices.usd_etched prices.eur  prices.eur_foil prices.tix  \\\n",
       "0             None              None       None             None       None   \n",
       "\n",
       "                               related_uris.gatherer  \\\n",
       "0  https://gatherer.wizards.com/Pages/Card/Detail...   \n",
       "\n",
       "            related_uris.tcgplayer_infinite_articles  \\\n",
       "0  https://tcgplayer.pxf.io/c/4931599/1830156/210...   \n",
       "\n",
       "               related_uris.tcgplayer_infinite_decks  \\\n",
       "0  https://tcgplayer.pxf.io/c/4931599/1830156/210...   \n",
       "\n",
       "                               related_uris.edhrec  \n",
       "0  https://edhrec.com/route/?cc=Key+to+the+Archive  \n",
       "\n",
       "[1 rows x 95 columns]"
      ]
     },
     "execution_count": 25,
     "metadata": {},
     "output_type": "execute_result"
    }
   ],
   "source": [
    "df"
   ]
  },
  {
   "cell_type": "markdown",
   "metadata": {},
   "source": [
    "4. Export the DataFrame to a JSON"
   ]
  },
  {
   "cell_type": "code",
   "execution_count": 26,
   "metadata": {},
   "outputs": [],
   "source": [
    "df.to_json('Key to the Archive.json', orient='records')"
   ]
  }
 ],
 "metadata": {
  "kernelspec": {
   "display_name": "Python 3",
   "language": "python",
   "name": "python3"
  },
  "language_info": {
   "codemirror_mode": {
    "name": "ipython",
    "version": 3
   },
   "file_extension": ".py",
   "mimetype": "text/x-python",
   "name": "python",
   "nbconvert_exporter": "python",
   "pygments_lexer": "ipython3",
   "version": "3.12.1"
  }
 },
 "nbformat": 4,
 "nbformat_minor": 2
}
